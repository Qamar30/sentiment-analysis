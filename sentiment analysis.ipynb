{
 "cells": [
  {
   "cell_type": "code",
   "execution_count": 1,
   "metadata": {},
   "outputs": [],
   "source": [
    "from textblob import TextBlob\n",
    "from bs4 import BeautifulSoup\n",
    "import requests\n",
    "import warnings\n",
    "\n",
    "\n",
    "warnings.filterwarnings(\"ignore\", category=DeprecationWarning) \n",
    "class Analysis:\n",
    "    def _init_(self,term):\n",
    "        self.term = term\n",
    "        self.sentiment = 0\n",
    "        self.subjectivity = 0\n",
    "        self.url = 'https://www.google.com/search?q={0}&source=lnms&tbm=nws'.format(self.term)\n",
    "        \n",
    "    def run(self):\n",
    "        response = requests.get(self.url)\n",
    "        soup = BeautifulSoup(response.text, 'html.parser')\n",
    "        headline_result = soup.find_all('div', class_='st')\n",
    "        for text in headline_results:\n",
    "            blob = TextBlob(text.get_text())\n",
    "            self.sentiment +=blob.sentiment.polarity / len(headline_results)\n",
    "            self.subjectivity +=blob.sentiment.subjectivity / len(headline_results)\n",
    "        \n",
    "        "
   ]
  },
  {
   "cell_type": "code",
   "execution_count": null,
   "metadata": {},
   "outputs": [],
   "source": []
  }
 ],
 "metadata": {
  "kernelspec": {
   "display_name": "Python 3",
   "language": "python",
   "name": "python3"
  },
  "language_info": {
   "codemirror_mode": {
    "name": "ipython",
    "version": 3
   },
   "file_extension": ".py",
   "mimetype": "text/x-python",
   "name": "python",
   "nbconvert_exporter": "python",
   "pygments_lexer": "ipython3",
   "version": "3.7.2"
  }
 },
 "nbformat": 4,
 "nbformat_minor": 2
}
